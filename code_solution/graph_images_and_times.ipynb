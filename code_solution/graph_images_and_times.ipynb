{
 "cells": [
  {
   "cell_type": "code",
   "execution_count": 11,
   "metadata": {},
   "outputs": [],
   "source": [
    "import os\n",
    "import time\n",
    "import cs412_mingraphcolor_exact\n",
    "test_cases = 'test_cases/random_graphs'\n",
    "src = 'cs412_mingraphcolor_exact.py'"
   ]
  },
  {
   "cell_type": "code",
   "execution_count": 12,
   "metadata": {},
   "outputs": [
    {
     "name": "stdout",
     "output_type": "stream",
     "text": [
      "['730_rand_graph', '410_rand_graph', '31_rand_graph', '310_rand_graph', '920_rand_graph', '870_rand_graph', '42_rand_graph', '540_rand_graph', '240_rand_graph', '380_rand_graph', '480_rand_graph', '160_rand_graph', '660_rand_graph', '210_rand_graph', '47_rand_graph', '510_rand_graph', '820_rand_graph', '630_rand_graph', '39_rand_graph', '130_rand_graph', '580_rand_graph', '280_rand_graph', '760_rand_graph', '28_rand_graph', '970_rand_graph', '34_rand_graph', '340_rand_graph', '440_rand_graph', '370_rand_graph', '33_rand_graph', '470_rand_graph', '51_rand_graph', '190_rand_graph', '690_rand_graph', '940_rand_graph', '880_rand_graph', '750_rand_graph', '600_rand_graph', '100_rand_graph', '810_rand_graph', '40_rand_graph', '220_rand_graph', '520_rand_graph', '150_rand_graph', '650_rand_graph', '980_rand_graph', '570_rand_graph', '45_rand_graph', '270_rand_graph', '27_rand_graph', '840_rand_graph', '790_rand_graph', '910_rand_graph', '420_rand_graph', '36_rand_graph', '320_rand_graph', '700_rand_graph', '48_rand_graph', '960_rand_graph', '450_rand_graph', '46_rand_graph', '350_rand_graph', '290_rand_graph', '590_rand_graph', '38_rand_graph', '770_rand_graph', '120_rand_graph', '29_rand_graph', '620_rand_graph', '35_rand_graph', '500_rand_graph', '200_rand_graph', '830_rand_graph', '490_rand_graph', '390_rand_graph', '670_rand_graph', '125_rand_graph', '170_rand_graph', '860_rand_graph', '250_rand_graph', '30_rand_graph', '550_rand_graph', '52_rand_graph', '43_rand_graph', '300_rand_graph', '400_rand_graph', '930_rand_graph', '720_rand_graph', '710_rand_graph', '900_rand_graph', '44_rand_graph', '330_rand_graph', '430_rand_graph', '37_rand_graph', '260_rand_graph', '560_rand_graph', '780_rand_graph', '850_rand_graph', '990_rand_graph', '640_rand_graph', '49_rand_graph', '140_rand_graph', '800_rand_graph', '530_rand_graph', '32_rand_graph', '230_rand_graph', '50_rand_graph', '110_rand_graph', '610_rand_graph', '1024_rand_graph', '740_rand_graph', '890_rand_graph', '460_rand_graph', '41_rand_graph', '360_rand_graph', '950_rand_graph', '680_rand_graph', '180_rand_graph']\n"
     ]
    },
    {
     "data": {
      "text/plain": [
       "['730_rand_graph',\n",
       " '410_rand_graph',\n",
       " '31_rand_graph',\n",
       " '310_rand_graph',\n",
       " '920_rand_graph',\n",
       " '870_rand_graph',\n",
       " '42_rand_graph',\n",
       " '540_rand_graph',\n",
       " '240_rand_graph',\n",
       " '380_rand_graph',\n",
       " '480_rand_graph',\n",
       " '160_rand_graph',\n",
       " '660_rand_graph',\n",
       " '210_rand_graph',\n",
       " '47_rand_graph',\n",
       " '510_rand_graph',\n",
       " '820_rand_graph',\n",
       " '630_rand_graph',\n",
       " '39_rand_graph',\n",
       " '130_rand_graph',\n",
       " '580_rand_graph',\n",
       " '280_rand_graph',\n",
       " '760_rand_graph',\n",
       " '28_rand_graph',\n",
       " '970_rand_graph',\n",
       " '34_rand_graph',\n",
       " '340_rand_graph',\n",
       " '440_rand_graph',\n",
       " '370_rand_graph',\n",
       " '33_rand_graph',\n",
       " '470_rand_graph',\n",
       " '51_rand_graph',\n",
       " '190_rand_graph',\n",
       " '690_rand_graph',\n",
       " '940_rand_graph',\n",
       " '880_rand_graph',\n",
       " '750_rand_graph',\n",
       " '600_rand_graph',\n",
       " '100_rand_graph',\n",
       " '810_rand_graph',\n",
       " '40_rand_graph',\n",
       " '220_rand_graph',\n",
       " '520_rand_graph',\n",
       " '150_rand_graph',\n",
       " '650_rand_graph',\n",
       " '980_rand_graph',\n",
       " '570_rand_graph',\n",
       " '45_rand_graph',\n",
       " '270_rand_graph',\n",
       " '27_rand_graph',\n",
       " '840_rand_graph',\n",
       " '790_rand_graph',\n",
       " '910_rand_graph',\n",
       " '420_rand_graph',\n",
       " '36_rand_graph',\n",
       " '320_rand_graph',\n",
       " '700_rand_graph',\n",
       " '48_rand_graph',\n",
       " '960_rand_graph',\n",
       " '450_rand_graph',\n",
       " '46_rand_graph',\n",
       " '350_rand_graph',\n",
       " '290_rand_graph',\n",
       " '590_rand_graph',\n",
       " '38_rand_graph',\n",
       " '770_rand_graph',\n",
       " '120_rand_graph',\n",
       " '29_rand_graph',\n",
       " '620_rand_graph',\n",
       " '35_rand_graph',\n",
       " '500_rand_graph',\n",
       " '200_rand_graph',\n",
       " '830_rand_graph',\n",
       " '490_rand_graph',\n",
       " '390_rand_graph',\n",
       " '670_rand_graph',\n",
       " '125_rand_graph',\n",
       " '170_rand_graph',\n",
       " '860_rand_graph',\n",
       " '250_rand_graph',\n",
       " '30_rand_graph',\n",
       " '550_rand_graph',\n",
       " '52_rand_graph',\n",
       " '43_rand_graph',\n",
       " '300_rand_graph',\n",
       " '400_rand_graph',\n",
       " '930_rand_graph',\n",
       " '720_rand_graph',\n",
       " '710_rand_graph',\n",
       " '900_rand_graph',\n",
       " '44_rand_graph',\n",
       " '330_rand_graph',\n",
       " '430_rand_graph',\n",
       " '37_rand_graph',\n",
       " '260_rand_graph',\n",
       " '560_rand_graph',\n",
       " '780_rand_graph',\n",
       " '850_rand_graph',\n",
       " '990_rand_graph',\n",
       " '640_rand_graph',\n",
       " '49_rand_graph',\n",
       " '140_rand_graph',\n",
       " '800_rand_graph',\n",
       " '530_rand_graph',\n",
       " '32_rand_graph',\n",
       " '230_rand_graph',\n",
       " '50_rand_graph',\n",
       " '110_rand_graph',\n",
       " '610_rand_graph',\n",
       " '1024_rand_graph',\n",
       " '740_rand_graph',\n",
       " '890_rand_graph',\n",
       " '460_rand_graph',\n",
       " '41_rand_graph',\n",
       " '360_rand_graph',\n",
       " '950_rand_graph',\n",
       " '680_rand_graph',\n",
       " '180_rand_graph']"
      ]
     },
     "execution_count": 12,
     "metadata": {},
     "output_type": "execute_result"
    }
   ],
   "source": [
    "def list_filenames(dir):\n",
    "    files = os.listdir(dir)\n",
    "    print(files)\n",
    "    return files\n",
    "list_filenames(test_cases)"
   ]
  },
  {
   "cell_type": "code",
   "execution_count": 13,
   "metadata": {},
   "outputs": [],
   "source": [
    "def timefile(file):\n",
    "    start = time.time()\n",
    "\n",
    "    with open(file, 'r') as f:\n",
    "        K = int(f.readline())\n",
    "        pairs = [f.readline().split() for _ in range(K)]\n",
    "\n",
    "        graph = cs412_mingraphcolor_exact.Graph(pairs)\n",
    "        _, _ = graph.brute_force_color() # discard input we just want to time it\n",
    "\n",
    "    end = time.time()\n",
    "    return end - start"
   ]
  },
  {
   "cell_type": "code",
   "execution_count": null,
   "metadata": {},
   "outputs": [],
   "source": [
    "with open('timed_output', 'w') as t:\n",
    "    for file in list_filenames(test_cases):\n",
    "        input_size = int(file.split('_')[0])\n",
    "        time_taken = timefile(f'{test_cases}/{file}')\n",
    "        t.write(f'{input_size}\\t{time_taken}\\n')"
   ]
  },
  {
   "cell_type": "code",
   "execution_count": 51,
   "metadata": {},
   "outputs": [
    {
     "data": {
      "text/plain": [
       "(    Input Size  Runtime (s)\n",
       " 49          27     0.001614\n",
       " 23          28     0.001485\n",
       " 67          29     0.001410\n",
       " 80          30     0.001600\n",
       " 2           31     0.001607,\n",
       "     Input Size  Runtime (s)\n",
       " 49          27     0.001699\n",
       " 23          28     0.001524\n",
       " 67          29     0.000647\n",
       " 80          30     0.000740\n",
       " 2           31     0.000680)"
      ]
     },
     "execution_count": 51,
     "metadata": {},
     "output_type": "execute_result"
    }
   ],
   "source": [
    "import pandas as pd\n",
    "df = pd.read_csv('timed_output', sep='\\t', names=['Input Size', 'Runtime (s)'])\n",
    "df = df.sort_values(by='Input Size')\n",
    "\n",
    "df_greedy = pd.read_csv('timed_output_greedy', sep='\\t', names=['Input Size', 'Runtime (s)'])\n",
    "df_greedy = df_greedy.sort_values(by='Input Size')\n",
    "df.head(), df_greedy.head()"
   ]
  },
  {
   "cell_type": "code",
   "execution_count": 52,
   "metadata": {},
   "outputs": [],
   "source": [
    "import matplotlib.pyplot as plt\n",
    "input_size = df['Input Size']\n",
    "runtime = df['Runtime (s)']\n",
    "input_size_greedy = df_greedy['Input Size']\n",
    "runtime_greedy = df_greedy['Runtime (s)']"
   ]
  },
  {
   "cell_type": "code",
   "execution_count": 54,
   "metadata": {},
   "outputs": [
    {
     "data": {
      "image/png": "[encoded data removed]",
      "text/plain": [
       "<Figure size 800x600 with 1 Axes>"
      ]
     },
     "metadata": {},
     "output_type": "display_data"
    }
   ],
   "source": [
    "plt.figure(figsize=(8, 6))\n",
    "plt.plot(input_size, runtime, color='blue', marker='o', linestyle='-', label='Original Data')\n",
    "plt.plot(input_size_greedy, runtime_greedy, color='red', marker='o', linestyle='-', label='Greedy Data')\n",
    "\n",
    "plt.title('Runtime vs Input Size')\n",
    "plt.xlabel('Input Size')\n",
    "plt.ylabel('Runtime (s)')\n",
    "plt.grid(True)\n",
    "plt.legend()\n",
    "plt.show()"
   ]
  },
  {
   "cell_type": "code",
   "execution_count": 24,
   "metadata": {},
   "outputs": [],
   "source": [
    "input_size = df['Input Size']\n",
    "runtime = df['Runtime (s)']\n",
    "\n",
    "import numpy as np\n",
    "# from scipy.optimize import curve_fit\n",
    "\n",
    "def exp_function(x, a, b):\n",
    "    return a * np.exp(b * x)"
   ]
  },
  {
   "cell_type": "code",
   "execution_count": 28,
   "metadata": {},
   "outputs": [],
   "source": [
    "# fit an exponential curve on our data\n",
    "# popt, pcov = curve_fit(exp_function, input_size, runtime)\n",
    "log_runtime = np.log(runtime)\n",
    "coefficients = np.polyfit(input_size, log_runtime, 1)"
   ]
  },
  {
   "cell_type": "code",
   "execution_count": 34,
   "metadata": {},
   "outputs": [
    {
     "data": {
      "text/plain": [
       "1248.0869403502647"
      ]
     },
     "execution_count": 34,
     "metadata": {},
     "output_type": "execute_result"
    }
   ],
   "source": [
    "# target_runtime = 20 * 60  # 20 min in sec\n",
    "# predicted_input_size = np.log(target_runtime / popt[0]) / popt[1]\n",
    "# predicted_input_size\n",
    "target_runtime = 20 * 60 # 20 minutes in seconds\n",
    "predicted_input_size = (np.log(target_runtime) - coefficients[1]) / coefficients[0]\n",
    "predicted_input_size"
   ]
  },
  {
   "cell_type": "code",
   "execution_count": 37,
   "metadata": {},
   "outputs": [
    {
     "data": {
      "image/png": "[encoded data removed]",
      "text/plain": [
       "<Figure size 800x600 with 1 Axes>"
      ]
     },
     "metadata": {},
     "output_type": "display_data"
    }
   ],
   "source": [
    "# Input sizes from 0 to 2000\n",
    "input_sizes = np.arange(0, 1300)\n",
    "\n",
    "# Predict runtime for each input size\n",
    "predicted_runtime = np.exp(np.polyval(coefficients, input_sizes))\n",
    "\n",
    "# Convert runtime to minutes\n",
    "predicted_runtime_minutes = predicted_runtime / 60  # Convert seconds to minutes\n",
    "\n",
    "# Plot the predicted graph\n",
    "plt.figure(figsize=(8, 6))\n",
    "plt.plot(input_sizes, predicted_runtime_minutes, color='blue')\n",
    "plt.title('Predicted Runtime vs Input Size')\n",
    "plt.xlabel('Input Size')\n",
    "plt.ylabel('Predicted Runtime (minutes)')\n",
    "plt.grid(True)\n",
    "plt.show()"
   ]
  },
  {
   "cell_type": "code",
   "execution_count": 39,
   "metadata": {},
   "outputs": [
    {
     "name": "stdout",
     "output_type": "stream",
     "text": [
      "[ 0.00981268 -5.15699514]\n"
     ]
    }
   ],
   "source": [
    "print(coefficients)"
   ]
  },
  {
   "cell_type": "code",
   "execution_count": 41,
   "metadata": {},
   "outputs": [],
   "source": [
    "import cs412_mingraphcolor_approx\n",
    "from collections import defaultdict\n",
    "# conors greedy\n",
    "def timefile_greedy(file):\n",
    "    start = time.time()\n",
    "\n",
    "    with open(file, 'r') as f:\n",
    "        K = int(f.readline())\n",
    "        pairs = [f.readline().split() for _ in range(K)]\n",
    "\n",
    "        # build color assignments by vertex : color\n",
    "        # assignments = {v: int(k) for v, k in pairs}\n",
    "        colors = defaultdict()\n",
    "        graph = defaultdict()\n",
    "        \n",
    "        for pair in pairs: # Dont want them pointing to the same memory\n",
    "            v, u = pair[0], pair[1]\n",
    "            colors[v], colors[u] = None, None\n",
    "            \n",
    "            if v not in graph:\n",
    "                graph[v] = set()\n",
    "                \n",
    "            if u not in graph:\n",
    "                graph[u] = set()\n",
    "                \n",
    "            graph[v].add(u)\n",
    "            graph[u].add(v)\n",
    "        \n",
    "        # print(graph)\n",
    "        cs412_mingraphcolor_approx.greedy_color(graph, colors)\n",
    "\n",
    "    end = time.time()\n",
    "    return end - start"
   ]
  },
  {
   "cell_type": "code",
   "execution_count": 42,
   "metadata": {},
   "outputs": [
    {
     "name": "stdout",
     "output_type": "stream",
     "text": [
      "['730_rand_graph', '410_rand_graph', '31_rand_graph', '310_rand_graph', '920_rand_graph', '870_rand_graph', '42_rand_graph', '540_rand_graph', '240_rand_graph', '380_rand_graph', '480_rand_graph', '160_rand_graph', '660_rand_graph', '210_rand_graph', '47_rand_graph', '510_rand_graph', '820_rand_graph', '630_rand_graph', '39_rand_graph', '130_rand_graph', '580_rand_graph', '280_rand_graph', '760_rand_graph', '28_rand_graph', '970_rand_graph', '34_rand_graph', '340_rand_graph', '440_rand_graph', '370_rand_graph', '33_rand_graph', '470_rand_graph', '51_rand_graph', '190_rand_graph', '690_rand_graph', '940_rand_graph', '880_rand_graph', '750_rand_graph', '600_rand_graph', '100_rand_graph', '810_rand_graph', '40_rand_graph', '220_rand_graph', '520_rand_graph', '150_rand_graph', '650_rand_graph', '980_rand_graph', '570_rand_graph', '45_rand_graph', '270_rand_graph', '27_rand_graph', '840_rand_graph', '790_rand_graph', '910_rand_graph', '420_rand_graph', '36_rand_graph', '320_rand_graph', '700_rand_graph', '48_rand_graph', '960_rand_graph', '450_rand_graph', '46_rand_graph', '350_rand_graph', '290_rand_graph', '590_rand_graph', '38_rand_graph', '770_rand_graph', '120_rand_graph', '29_rand_graph', '620_rand_graph', '35_rand_graph', '500_rand_graph', '200_rand_graph', '830_rand_graph', '490_rand_graph', '390_rand_graph', '670_rand_graph', '125_rand_graph', '170_rand_graph', '860_rand_graph', '250_rand_graph', '30_rand_graph', '550_rand_graph', '52_rand_graph', '43_rand_graph', '300_rand_graph', '400_rand_graph', '930_rand_graph', '720_rand_graph', '710_rand_graph', '900_rand_graph', '44_rand_graph', '330_rand_graph', '430_rand_graph', '37_rand_graph', '260_rand_graph', '560_rand_graph', '780_rand_graph', '850_rand_graph', '990_rand_graph', '640_rand_graph', '49_rand_graph', '140_rand_graph', '800_rand_graph', '530_rand_graph', '32_rand_graph', '230_rand_graph', '50_rand_graph', '110_rand_graph', '610_rand_graph', '1024_rand_graph', '740_rand_graph', '890_rand_graph', '460_rand_graph', '41_rand_graph', '360_rand_graph', '950_rand_graph', '680_rand_graph', '180_rand_graph']\n"
     ]
    }
   ],
   "source": [
    "with open('timed_output_greedy', 'w') as t:\n",
    "    for file in list_filenames(test_cases):\n",
    "        input_size = int(file.split('_')[0])\n",
    "        time_taken = timefile_greedy(f'{test_cases}/{file}')\n",
    "        t.write(f'{input_size}\\t{time_taken}\\n')"
   ]
  }
 ],
 "metadata": {
  "kernelspec": {
   "display_name": ".venv",
   "language": "python",
   "name": "python3"
  },
  "language_info": {
   "codemirror_mode": {
    "name": "ipython",
    "version": 3
   },
   "file_extension": ".py",
   "mimetype": "text/x-python",
   "name": "python",
   "nbconvert_exporter": "python",
   "pygments_lexer": "ipython3",
   "version": "3.9.6"
  }
 },
 "nbformat": 4,
 "nbformat_minor": 2
}
